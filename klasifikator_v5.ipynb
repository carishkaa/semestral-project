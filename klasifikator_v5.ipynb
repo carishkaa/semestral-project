{
 "cells": [
  {
   "cell_type": "markdown",
   "metadata": {},
   "source": [
    "# RNASeq Classifier"
   ]
  },
  {
   "cell_type": "code",
   "execution_count": 1,
   "metadata": {},
   "outputs": [],
   "source": [
    "%load_ext autoreload\n",
    "%autoreload 2\n",
    "import numpy as np\n",
    "from pandas import read_csv, DataFrame, Series\n",
    "import pandas as pd\n",
    "from sklearn.model_selection import train_test_split\n",
    "from helper import *\n",
    "from sklearn.model_selection import RepeatedStratifiedKFold\n",
    "\n",
    "import matplotlib.pyplot as plt\n",
    "%matplotlib inline"
   ]
  },
  {
   "cell_type": "markdown",
   "source": [
    "#### Load data"
   ],
   "metadata": {
    "collapsed": false
   }
  },
  {
   "cell_type": "code",
   "execution_count": null,
   "outputs": [],
   "source": [
    "# create .csv from .matrix\n",
    "\n",
    "# with open(\"19NQ013_samples.matrix\") as textFile:\n",
    "#     data = np.array([sample.split() for sample in textFile])\n",
    "#\n",
    "# with open('19NQ013_samples.csv', 'w', newline='') as file:\n",
    "#     writer = csv.writer(file)\n",
    "#     writer.writerows(data)"
   ],
   "metadata": {
    "collapsed": false,
    "pycharm": {
     "name": "#%%\n"
    }
   }
  },
  {
   "cell_type": "code",
   "execution_count": 2,
   "metadata": {},
   "outputs": [],
   "source": [
    "samples = read_csv('19NQ013_samples.csv')"
   ]
  },
  {
   "cell_type": "markdown",
   "source": [
    "#### Prepare data"
   ],
   "metadata": {
    "collapsed": false,
    "pycharm": {
     "name": "#%% md\n"
    }
   }
  },
  {
   "cell_type": "code",
   "execution_count": 3,
   "outputs": [],
   "source": [
    "# leave only OT_ and CR_ patients\n",
    "drop_list = []\n",
    "for patient in samples.columns:\n",
    "    if patient[:2] != 'OT' and patient[:2] != 'CR':\n",
    "        drop_list.append(patient)\n",
    "genes = samples['genes'].to_list()\n",
    "samples = samples.drop(drop_list[1:],axis=1)"
   ],
   "metadata": {
    "collapsed": false,
    "pycharm": {
     "name": "#%%\n"
    }
   }
  },
  {
   "cell_type": "code",
   "execution_count": 4,
   "outputs": [
    {
     "name": "stdout",
     "output_type": "stream",
     "text": [
      "Patients amount: \n",
      " status\n",
      "OT        15\n",
      "CR        12\n",
      "dtype: int64\n"
     ]
    }
   ],
   "source": [
    "# recode patient status to numeric (OT = 0, CR = 1)\n",
    "patients = samples.columns[1:]\n",
    "patients_labels = pd.DataFrame({'status':  [p[:2] for p in patients]})\n",
    "print('Patients amount: \\n', patients_labels.value_counts())\n",
    "\n",
    "patients_labels = patients_labels.replace({'OT':0, 'CR':1})\n",
    "labels = ['OT', 'CR']"
   ],
   "metadata": {
    "collapsed": false,
    "pycharm": {
     "name": "#%%\n"
    }
   }
  },
  {
   "cell_type": "markdown",
   "source": [
    "#### Filter data"
   ],
   "metadata": {
    "collapsed": false,
    "pycharm": {
     "name": "#%% md\n"
    }
   }
  },
  {
   "cell_type": "code",
   "execution_count": 5,
   "outputs": [
    {
     "name": "stdout",
     "output_type": "stream",
     "text": [
      "Number of all genes:  187626\n"
     ]
    }
   ],
   "source": [
    "from scipy import stats\n",
    "print('Number of all genes: ', samples.sum(axis=1).count())"
   ],
   "metadata": {
    "collapsed": false,
    "pycharm": {
     "name": "#%%\n"
    }
   }
  },
  {
   "cell_type": "code",
   "execution_count": 6,
   "outputs": [
    {
     "name": "stdout",
     "output_type": "stream",
     "text": [
      "Number of genes which have > 10 counts:  False    104301\n",
      "True      83325\n",
      "dtype: int64\n",
      "Number of genes which have a least 4 counts in one of vzorku:  False    119072\n",
      "True      68554\n",
      "dtype: int64\n"
     ]
    }
   ],
   "source": [
    "print('Number of genes which have > 10 counts: ', (samples.sum(axis=1) > 20).value_counts())\n",
    "print('Number of genes which have a least 4 counts in one of vzorku: ', (samples.max(axis=1) > 4).value_counts())"
   ],
   "metadata": {
    "collapsed": false,
    "pycharm": {
     "name": "#%%\n"
    }
   }
  },
  {
   "cell_type": "code",
   "execution_count": 7,
   "outputs": [],
   "source": [
    "# remove genes with < 20 read counts in all samples and genes which have > 5 read counts in at least one sample\n",
    "samples = samples[(samples.sum(axis=1) > 20) & (samples.max(axis=1) > 5)]"
   ],
   "metadata": {
    "collapsed": false,
    "pycharm": {
     "name": "#%%\n"
    }
   }
  },
  {
   "cell_type": "code",
   "execution_count": null,
   "outputs": [],
   "source": [
    "# remove genes with zero counts in all samples\n",
    "# print('Number of zero gene expression: ', (samples.sum(axis=1) <= 1).sum())\n",
    "# samples = samples[samples.sum(axis=1) > 1]\n",
    "\n",
    "# remove genes with a low mean normalized counts\n",
    "# mean = samples.mean(axis=1)\n",
    "# print('Number of genes with low mean counts: ', mean[mean < 2].count())\n",
    "# samples = samples[mean > 2]\n",
    "\n",
    "# print('Number of all genes after removing: ', samples.sum(axis=1).count())\n",
    "# samples.head()\n",
    "\n",
    "# remove genes with an extreme count outlier\n",
    "# zsc = np.abs(stats.zscore(samples[samples.columns[1:]]))\n",
    "# print(zsc[zsc>100])\n",
    "# print(samples[(zsc > 3).all(axis=1)])\n",
    "# samples = samples[(np.abs(stats.zscore(samples)) < 3).all(axis=1)]"
   ],
   "metadata": {
    "collapsed": false,
    "pycharm": {
     "name": "#%%\n"
    }
   }
  },
  {
   "cell_type": "code",
   "execution_count": 8,
   "outputs": [
    {
     "name": "stdout",
     "output_type": "stream",
     "text": [
      "Number of all genes after data filtering:  58526\n"
     ]
    }
   ],
   "source": [
    "print('Number of all genes after data filtering: ', samples.sum(axis=1).count())"
   ],
   "metadata": {
    "collapsed": false,
    "pycharm": {
     "name": "#%%\n"
    }
   }
  },
  {
   "cell_type": "markdown",
   "source": [
    "#### Prepare dataset for classification\n"
   ],
   "metadata": {
    "collapsed": false,
    "pycharm": {
     "name": "#%% md\n"
    }
   }
  },
  {
   "cell_type": "code",
   "execution_count": 9,
   "metadata": {},
   "outputs": [
    {
     "data": {
      "text/plain": "genes  ENST00000390396.1  ENST00000390400.2  ENST00000390369.2  \\\n0                      0                  6                  3   \n1                      1                 12                  0   \n2                      1                  4                  0   \n3                      1                  2                  0   \n4                      0                  8                  0   \n\ngenes  ENST00000390468.1  ENST00000390424.2  ENST00000390463.3  \\\n0                      4                  0                  0   \n1                      7                  5                  3   \n2                      4                  3                  2   \n3                      4                  0                  1   \n4                      5                  8                  2   \n\ngenes  ENST00000390440.2  ENST00000390436.2  ENST00000390435.1  \\\n0                      2                  4                  3   \n1                      5                  5                 12   \n2                      4                 12                 12   \n3                      1                  4                  0   \n4                      5                  6                 14   \n\ngenes  ENST00000631690.1  ...  ENST00000499853.2  ENST00000383620.4  \\\n0                      2  ...                  5                 13   \n1                      3  ...                  5                  9   \n2                      0  ...                  6                  7   \n3                      0  ...                  4                  0   \n4                      2  ...                  6                 22   \n\ngenes  ENST00000563214.1  ENST00000626385.1  ENST00000617319.1  \\\n0                      0                  2                  1   \n1                      2                  5                  2   \n2                      3                  7                  3   \n3                      2                  2                  1   \n4                      1                  4                  1   \n\ngenes  ENST00000646111.1  ENST00000647527.1  ENST00000634119.1  \\\n0                      2                  1                  3   \n1                      5                  4                  1   \n2                      3                  1                  0   \n3                      5                  4                  4   \n4                      7                  7                  1   \n\ngenes  ENST00000631343.1  ENST00000635730.1  \n0                      0                  0  \n1                      2                  3  \n2                      0                  0  \n3                      0                  1  \n4                      1                  0  \n\n[5 rows x 58526 columns]",
      "text/html": "<div>\n<style scoped>\n    .dataframe tbody tr th:only-of-type {\n        vertical-align: middle;\n    }\n\n    .dataframe tbody tr th {\n        vertical-align: top;\n    }\n\n    .dataframe thead th {\n        text-align: right;\n    }\n</style>\n<table border=\"1\" class=\"dataframe\">\n  <thead>\n    <tr style=\"text-align: right;\">\n      <th>genes</th>\n      <th>ENST00000390396.1</th>\n      <th>ENST00000390400.2</th>\n      <th>ENST00000390369.2</th>\n      <th>ENST00000390468.1</th>\n      <th>ENST00000390424.2</th>\n      <th>ENST00000390463.3</th>\n      <th>ENST00000390440.2</th>\n      <th>ENST00000390436.2</th>\n      <th>ENST00000390435.1</th>\n      <th>ENST00000631690.1</th>\n      <th>...</th>\n      <th>ENST00000499853.2</th>\n      <th>ENST00000383620.4</th>\n      <th>ENST00000563214.1</th>\n      <th>ENST00000626385.1</th>\n      <th>ENST00000617319.1</th>\n      <th>ENST00000646111.1</th>\n      <th>ENST00000647527.1</th>\n      <th>ENST00000634119.1</th>\n      <th>ENST00000631343.1</th>\n      <th>ENST00000635730.1</th>\n    </tr>\n  </thead>\n  <tbody>\n    <tr>\n      <th>0</th>\n      <td>0</td>\n      <td>6</td>\n      <td>3</td>\n      <td>4</td>\n      <td>0</td>\n      <td>0</td>\n      <td>2</td>\n      <td>4</td>\n      <td>3</td>\n      <td>2</td>\n      <td>...</td>\n      <td>5</td>\n      <td>13</td>\n      <td>0</td>\n      <td>2</td>\n      <td>1</td>\n      <td>2</td>\n      <td>1</td>\n      <td>3</td>\n      <td>0</td>\n      <td>0</td>\n    </tr>\n    <tr>\n      <th>1</th>\n      <td>1</td>\n      <td>12</td>\n      <td>0</td>\n      <td>7</td>\n      <td>5</td>\n      <td>3</td>\n      <td>5</td>\n      <td>5</td>\n      <td>12</td>\n      <td>3</td>\n      <td>...</td>\n      <td>5</td>\n      <td>9</td>\n      <td>2</td>\n      <td>5</td>\n      <td>2</td>\n      <td>5</td>\n      <td>4</td>\n      <td>1</td>\n      <td>2</td>\n      <td>3</td>\n    </tr>\n    <tr>\n      <th>2</th>\n      <td>1</td>\n      <td>4</td>\n      <td>0</td>\n      <td>4</td>\n      <td>3</td>\n      <td>2</td>\n      <td>4</td>\n      <td>12</td>\n      <td>12</td>\n      <td>0</td>\n      <td>...</td>\n      <td>6</td>\n      <td>7</td>\n      <td>3</td>\n      <td>7</td>\n      <td>3</td>\n      <td>3</td>\n      <td>1</td>\n      <td>0</td>\n      <td>0</td>\n      <td>0</td>\n    </tr>\n    <tr>\n      <th>3</th>\n      <td>1</td>\n      <td>2</td>\n      <td>0</td>\n      <td>4</td>\n      <td>0</td>\n      <td>1</td>\n      <td>1</td>\n      <td>4</td>\n      <td>0</td>\n      <td>0</td>\n      <td>...</td>\n      <td>4</td>\n      <td>0</td>\n      <td>2</td>\n      <td>2</td>\n      <td>1</td>\n      <td>5</td>\n      <td>4</td>\n      <td>4</td>\n      <td>0</td>\n      <td>1</td>\n    </tr>\n    <tr>\n      <th>4</th>\n      <td>0</td>\n      <td>8</td>\n      <td>0</td>\n      <td>5</td>\n      <td>8</td>\n      <td>2</td>\n      <td>5</td>\n      <td>6</td>\n      <td>14</td>\n      <td>2</td>\n      <td>...</td>\n      <td>6</td>\n      <td>22</td>\n      <td>1</td>\n      <td>4</td>\n      <td>1</td>\n      <td>7</td>\n      <td>7</td>\n      <td>1</td>\n      <td>1</td>\n      <td>0</td>\n    </tr>\n  </tbody>\n</table>\n<p>5 rows × 58526 columns</p>\n</div>"
     },
     "execution_count": 9,
     "metadata": {},
     "output_type": "execute_result"
    }
   ],
   "source": [
    "# transpose\n",
    "samples = samples.transpose()\n",
    "samples.columns = samples.iloc[0]\n",
    "samples = samples.drop([\"genes\"]).apply(pd.to_numeric)\n",
    "samples = samples.reset_index(drop=True)\n",
    "samples.head()"
   ]
  },
  {
   "cell_type": "markdown",
   "source": [
    "#### Initialize train and test data"
   ],
   "metadata": {
    "collapsed": false,
    "pycharm": {
     "name": "#%% md\n"
    }
   }
  },
  {
   "cell_type": "code",
   "execution_count": null,
   "outputs": [],
   "source": [
    "# split samples into train and test subsets (randomly!)\n",
    "# X_train, X_test, y_train, y_test = train_test_split(samples, patients_labels, test_size=0.5)\n",
    "# print('Train subset: (0 = OT, 1 = CR)\\nid', y_train)\n",
    "# print('Test subset: (0 = OT, 1 = CR)\\nid', y_test)"
   ],
   "metadata": {
    "collapsed": false,
    "pycharm": {
     "name": "#%%\n"
    }
   }
  },
  {
   "cell_type": "markdown",
   "source": [
    "#### 5x20 cross validation for future selection"
   ],
   "metadata": {
    "collapsed": false,
    "pycharm": {
     "name": "#%% md\n"
    }
   }
  },
  {
   "cell_type": "code",
   "execution_count": 16,
   "outputs": [
    {
     "data": {
      "text/plain": "genes  ENST00000390396.1  ENST00000390400.2  ENST00000390369.2  \\\n0              -0.723095           0.081449           1.378450   \n1              -0.324655           1.400923          -0.651631   \n2              -0.324655          -0.358376          -0.651631   \n3              -0.324655          -0.798200          -0.651631   \n4              -0.723095           0.521274          -0.651631   \n\ngenes  ENST00000390468.1  ENST00000390424.2  ENST00000390463.3  \\\n0              -0.444500          -1.311745          -1.078328   \n1               0.841376           0.358874           0.377415   \n2              -0.444500          -0.309374          -0.107833   \n3              -0.444500          -1.311745          -0.593080   \n4              -0.015875           1.361244          -0.107833   \n\ngenes  ENST00000390440.2  ENST00000390436.2  ENST00000390435.1  \\\n0              -0.749931          -0.714832          -0.686406   \n1               0.028843          -0.490408           1.299269   \n2              -0.230748           1.080560           1.299269   \n3              -1.009522          -0.714832          -1.348298   \n4               0.028843          -0.265984           1.740531   \n\ngenes  ENST00000631690.1  ...  ENST00000499853.2  ENST00000383620.4  \\\n0               0.166856  ...           0.212143           1.648595   \n1               0.810443  ...           0.212143           0.924822   \n2              -1.120319  ...           0.784928           0.562935   \n3              -1.120319  ...          -0.360642          -0.703669   \n4               0.166856  ...           0.784928           3.277085   \n\ngenes  ENST00000563214.1  ENST00000626385.1  ENST00000617319.1  \\\n0              -1.110771          -0.473146          -0.868243   \n1               0.113344           1.268891          -0.310087   \n2               0.725402           2.430248           0.248069   \n3               0.113344          -0.473146          -0.868243   \n4              -0.498714           0.688212          -0.868243   \n\ngenes  ENST00000646111.1  ENST00000647527.1  ENST00000634119.1  \\\n0              -0.386230          -1.072232           1.227144   \n1               1.260329           0.451466          -0.153393   \n2               0.162623          -1.072232          -0.843661   \n3               1.260329           0.451466           1.917412   \n4               2.358035           1.975164          -0.153393   \n\ngenes  ENST00000631343.1  ENST00000635730.1  \n0              -0.752217          -0.736619  \n1               0.316723           0.718653  \n2              -0.752217          -0.736619  \n3              -0.752217          -0.251529  \n4              -0.217747          -0.736619  \n\n[5 rows x 58526 columns]",
      "text/html": "<div>\n<style scoped>\n    .dataframe tbody tr th:only-of-type {\n        vertical-align: middle;\n    }\n\n    .dataframe tbody tr th {\n        vertical-align: top;\n    }\n\n    .dataframe thead th {\n        text-align: right;\n    }\n</style>\n<table border=\"1\" class=\"dataframe\">\n  <thead>\n    <tr style=\"text-align: right;\">\n      <th>genes</th>\n      <th>ENST00000390396.1</th>\n      <th>ENST00000390400.2</th>\n      <th>ENST00000390369.2</th>\n      <th>ENST00000390468.1</th>\n      <th>ENST00000390424.2</th>\n      <th>ENST00000390463.3</th>\n      <th>ENST00000390440.2</th>\n      <th>ENST00000390436.2</th>\n      <th>ENST00000390435.1</th>\n      <th>ENST00000631690.1</th>\n      <th>...</th>\n      <th>ENST00000499853.2</th>\n      <th>ENST00000383620.4</th>\n      <th>ENST00000563214.1</th>\n      <th>ENST00000626385.1</th>\n      <th>ENST00000617319.1</th>\n      <th>ENST00000646111.1</th>\n      <th>ENST00000647527.1</th>\n      <th>ENST00000634119.1</th>\n      <th>ENST00000631343.1</th>\n      <th>ENST00000635730.1</th>\n    </tr>\n  </thead>\n  <tbody>\n    <tr>\n      <th>0</th>\n      <td>-0.723095</td>\n      <td>0.081449</td>\n      <td>1.378450</td>\n      <td>-0.444500</td>\n      <td>-1.311745</td>\n      <td>-1.078328</td>\n      <td>-0.749931</td>\n      <td>-0.714832</td>\n      <td>-0.686406</td>\n      <td>0.166856</td>\n      <td>...</td>\n      <td>0.212143</td>\n      <td>1.648595</td>\n      <td>-1.110771</td>\n      <td>-0.473146</td>\n      <td>-0.868243</td>\n      <td>-0.386230</td>\n      <td>-1.072232</td>\n      <td>1.227144</td>\n      <td>-0.752217</td>\n      <td>-0.736619</td>\n    </tr>\n    <tr>\n      <th>1</th>\n      <td>-0.324655</td>\n      <td>1.400923</td>\n      <td>-0.651631</td>\n      <td>0.841376</td>\n      <td>0.358874</td>\n      <td>0.377415</td>\n      <td>0.028843</td>\n      <td>-0.490408</td>\n      <td>1.299269</td>\n      <td>0.810443</td>\n      <td>...</td>\n      <td>0.212143</td>\n      <td>0.924822</td>\n      <td>0.113344</td>\n      <td>1.268891</td>\n      <td>-0.310087</td>\n      <td>1.260329</td>\n      <td>0.451466</td>\n      <td>-0.153393</td>\n      <td>0.316723</td>\n      <td>0.718653</td>\n    </tr>\n    <tr>\n      <th>2</th>\n      <td>-0.324655</td>\n      <td>-0.358376</td>\n      <td>-0.651631</td>\n      <td>-0.444500</td>\n      <td>-0.309374</td>\n      <td>-0.107833</td>\n      <td>-0.230748</td>\n      <td>1.080560</td>\n      <td>1.299269</td>\n      <td>-1.120319</td>\n      <td>...</td>\n      <td>0.784928</td>\n      <td>0.562935</td>\n      <td>0.725402</td>\n      <td>2.430248</td>\n      <td>0.248069</td>\n      <td>0.162623</td>\n      <td>-1.072232</td>\n      <td>-0.843661</td>\n      <td>-0.752217</td>\n      <td>-0.736619</td>\n    </tr>\n    <tr>\n      <th>3</th>\n      <td>-0.324655</td>\n      <td>-0.798200</td>\n      <td>-0.651631</td>\n      <td>-0.444500</td>\n      <td>-1.311745</td>\n      <td>-0.593080</td>\n      <td>-1.009522</td>\n      <td>-0.714832</td>\n      <td>-1.348298</td>\n      <td>-1.120319</td>\n      <td>...</td>\n      <td>-0.360642</td>\n      <td>-0.703669</td>\n      <td>0.113344</td>\n      <td>-0.473146</td>\n      <td>-0.868243</td>\n      <td>1.260329</td>\n      <td>0.451466</td>\n      <td>1.917412</td>\n      <td>-0.752217</td>\n      <td>-0.251529</td>\n    </tr>\n    <tr>\n      <th>4</th>\n      <td>-0.723095</td>\n      <td>0.521274</td>\n      <td>-0.651631</td>\n      <td>-0.015875</td>\n      <td>1.361244</td>\n      <td>-0.107833</td>\n      <td>0.028843</td>\n      <td>-0.265984</td>\n      <td>1.740531</td>\n      <td>0.166856</td>\n      <td>...</td>\n      <td>0.784928</td>\n      <td>3.277085</td>\n      <td>-0.498714</td>\n      <td>0.688212</td>\n      <td>-0.868243</td>\n      <td>2.358035</td>\n      <td>1.975164</td>\n      <td>-0.153393</td>\n      <td>-0.217747</td>\n      <td>-0.736619</td>\n    </tr>\n  </tbody>\n</table>\n<p>5 rows × 58526 columns</p>\n</div>"
     },
     "execution_count": 16,
     "metadata": {},
     "output_type": "execute_result"
    }
   ],
   "source": [
    "from sklearn.metrics import roc_auc_score, confusion_matrix, roc_curve, auc\n",
    "np.random.seed(42)\n",
    "X = StandardScaler().fit_transform(samples)\n",
    "y = patients_labels\n",
    "# print(X)\n",
    "# X.head()\n",
    "X = pd.DataFrame(data=X, columns=samples.columns)\n",
    "X.head()"
   ],
   "metadata": {
    "collapsed": false,
    "pycharm": {
     "name": "#%%\n"
    }
   }
  },
  {
   "cell_type": "code",
   "execution_count": 17,
   "outputs": [],
   "source": [
    "n_splits = 5\n",
    "genes_range = [3, 5, 10, 30, 100] # number of selected genes\n",
    "results = dict((k, []) for k in genes_range)\n",
    "\n",
    "# cross validation\n",
    "# cv = StratifiedKFold(n_splits=n_splits).split(X, y)\n",
    "cv = RepeatedStratifiedKFold(n_splits=n_splits, n_repeats=20).split(X, y)\n",
    "for i, (train_idx, test_idx) in enumerate(cv):\n",
    "    X_train, y_train = [X.iloc[train_idx, :], y.iloc[train_idx]]\n",
    "    X_test, y_test = [X.iloc[test_idx, :], y.iloc[test_idx]]\n",
    "\n",
    "    for selected_k in genes_range:\n",
    "        # print('\\nNumber of genes: ', selected_k)\n",
    "\n",
    "        # feature selection\n",
    "        selected_genes = dict()\n",
    "        selected_genes['Random'] = feature_selection_random(X_train, selected_k)\n",
    "        selected_genes['Extra trees'] = feature_selection_extra_trees(X_train, y_train.values.ravel(), selected_k)\n",
    "        selected_genes['Lasso'] = feature_selection_l1(X_train, y_train.values.ravel(), selected_k)\n",
    "\n",
    "        auc_scores = []\n",
    "        for name, genes in selected_genes.items():\n",
    "            X_train_selected = X_train[genes]\n",
    "            X_test_selected = X_test[genes]\n",
    "\n",
    "            # model prediction\n",
    "            model = LogisticRegression(solver='liblinear', penalty='l1').fit(X_train_selected, y_train.values.ravel())\n",
    "            probabilities = model.predict_proba(X_test_selected)[:, 1]\n",
    "\n",
    "            # calculate auroc score\n",
    "            auc = roc_auc_score(y_test, probabilities)\n",
    "            # if auc < 0.4:\n",
    "            #     print('auc = ', auc)\n",
    "            #     print(y_test)\n",
    "            #     print(probabilities)\n",
    "            #     print('---')\n",
    "            auc_scores.append(auc)\n",
    "\n",
    "        results[selected_k].append(auc_scores)"
   ],
   "metadata": {
    "collapsed": false,
    "pycharm": {
     "name": "#%%\n"
    }
   }
  },
  {
   "cell_type": "markdown",
   "source": [
    "#### Show cross-validation results"
   ],
   "metadata": {
    "collapsed": false,
    "pycharm": {
     "name": "#%% md\n"
    }
   }
  },
  {
   "cell_type": "code",
   "execution_count": 187,
   "outputs": [
    {
     "data": {
      "text/plain": "<Figure size 720x360 with 1 Axes>",
      "image/png": "[encoded data removed]"
     },
     "metadata": {
      "needs_background": "light"
     },
     "output_type": "display_data"
    }
   ],
   "source": [
    "#without scaling\n",
    "# modify data for boxplots\n",
    "methods_names = ['random', 'extra trees', 'lasso (L1)']\n",
    "data_groups = group_data(results)\n",
    "# print(data_groups)\n",
    "\n",
    "# show boxplots\n",
    "show_cv(data_groups, genes_range, methods_names)"
   ],
   "metadata": {
    "collapsed": false,
    "pycharm": {
     "name": "#%%\n"
    }
   }
  },
  {
   "cell_type": "code",
   "execution_count": 18,
   "outputs": [
    {
     "data": {
      "text/plain": "<Figure size 720x360 with 1 Axes>",
      "image/png": "[encoded data removed]"
     },
     "metadata": {
      "needs_background": "light"
     },
     "output_type": "display_data"
    }
   ],
   "source": [
    "#with scaling\n",
    "# modify data for boxplots\n",
    "methods_names = ['random', 'extra trees', 'lasso (L1)']\n",
    "data_groups = group_data(results)\n",
    "# print(data_groups)\n",
    "\n",
    "# show boxplots\n",
    "show_cv(data_groups, genes_range, methods_names)"
   ],
   "metadata": {
    "collapsed": false,
    "pycharm": {
     "name": "#%%\n"
    }
   }
  },
  {
   "cell_type": "markdown",
   "source": [
    "#### Add information about immunosuppressive drugs"
   ],
   "metadata": {
    "collapsed": false,
    "pycharm": {
     "name": "#%% md\n"
    }
   }
  },
  {
   "cell_type": "code",
   "execution_count": 189,
   "outputs": [],
   "source": [
    "# Load data\n",
    "samples_IS = read_csv('Kodovani_skupin_proDEG_vlivIS.csv')\n",
    "\n",
    "patients_tmp = patients.copy()\n",
    "patients_tmp = patients_tmp.to_frame(index=False).replace(to_replace=r'^OT_', value='T', regex=True)\n",
    "patients_tmp.columns = ['RNA_seq_label']\n",
    "samples_IS = pd.merge(patients_tmp, samples_IS, on='RNA_seq_label')"
   ],
   "metadata": {
    "collapsed": false,
    "pycharm": {
     "name": "#%%\n"
    }
   }
  },
  {
   "cell_type": "code",
   "execution_count": 190,
   "outputs": [
    {
     "data": {
      "text/plain": "   CNI  steroids  antiproliferative_drugs  ENST00000390396.1  \\\n0    0         0                        0                  0   \n1    0         0                        0                  1   \n2    0         0                        0                  1   \n3    0         0                        0                  1   \n4    0         0                        0                  0   \n\n   ENST00000390400.2  ENST00000390369.2  ENST00000390468.1  ENST00000390424.2  \\\n0                  6                  3                  4                  0   \n1                 12                  0                  7                  5   \n2                  4                  0                  4                  3   \n3                  2                  0                  4                  0   \n4                  8                  0                  5                  8   \n\n   ENST00000390463.3  ENST00000390440.2  ...  ENST00000499853.2  \\\n0                  0                  2  ...                  5   \n1                  3                  5  ...                  5   \n2                  2                  4  ...                  6   \n3                  1                  1  ...                  4   \n4                  2                  5  ...                  6   \n\n   ENST00000383620.4  ENST00000563214.1  ENST00000626385.1  ENST00000617319.1  \\\n0                 13                  0                  2                  1   \n1                  9                  2                  5                  2   \n2                  7                  3                  7                  3   \n3                  0                  2                  2                  1   \n4                 22                  1                  4                  1   \n\n   ENST00000646111.1  ENST00000647527.1  ENST00000634119.1  ENST00000631343.1  \\\n0                  2                  1                  3                  0   \n1                  5                  4                  1                  2   \n2                  3                  1                  0                  0   \n3                  5                  4                  4                  0   \n4                  7                  7                  1                  1   \n\n   ENST00000635730.1  \n0                  0  \n1                  3  \n2                  0  \n3                  1  \n4                  0  \n\n[5 rows x 58529 columns]",
      "text/html": "<div>\n<style scoped>\n    .dataframe tbody tr th:only-of-type {\n        vertical-align: middle;\n    }\n\n    .dataframe tbody tr th {\n        vertical-align: top;\n    }\n\n    .dataframe thead th {\n        text-align: right;\n    }\n</style>\n<table border=\"1\" class=\"dataframe\">\n  <thead>\n    <tr style=\"text-align: right;\">\n      <th></th>\n      <th>CNI</th>\n      <th>steroids</th>\n      <th>antiproliferative_drugs</th>\n      <th>ENST00000390396.1</th>\n      <th>ENST00000390400.2</th>\n      <th>ENST00000390369.2</th>\n      <th>ENST00000390468.1</th>\n      <th>ENST00000390424.2</th>\n      <th>ENST00000390463.3</th>\n      <th>ENST00000390440.2</th>\n      <th>...</th>\n      <th>ENST00000499853.2</th>\n      <th>ENST00000383620.4</th>\n      <th>ENST00000563214.1</th>\n      <th>ENST00000626385.1</th>\n      <th>ENST00000617319.1</th>\n      <th>ENST00000646111.1</th>\n      <th>ENST00000647527.1</th>\n      <th>ENST00000634119.1</th>\n      <th>ENST00000631343.1</th>\n      <th>ENST00000635730.1</th>\n    </tr>\n  </thead>\n  <tbody>\n    <tr>\n      <th>0</th>\n      <td>0</td>\n      <td>0</td>\n      <td>0</td>\n      <td>0</td>\n      <td>6</td>\n      <td>3</td>\n      <td>4</td>\n      <td>0</td>\n      <td>0</td>\n      <td>2</td>\n      <td>...</td>\n      <td>5</td>\n      <td>13</td>\n      <td>0</td>\n      <td>2</td>\n      <td>1</td>\n      <td>2</td>\n      <td>1</td>\n      <td>3</td>\n      <td>0</td>\n      <td>0</td>\n    </tr>\n    <tr>\n      <th>1</th>\n      <td>0</td>\n      <td>0</td>\n      <td>0</td>\n      <td>1</td>\n      <td>12</td>\n      <td>0</td>\n      <td>7</td>\n      <td>5</td>\n      <td>3</td>\n      <td>5</td>\n      <td>...</td>\n      <td>5</td>\n      <td>9</td>\n      <td>2</td>\n      <td>5</td>\n      <td>2</td>\n      <td>5</td>\n      <td>4</td>\n      <td>1</td>\n      <td>2</td>\n      <td>3</td>\n    </tr>\n    <tr>\n      <th>2</th>\n      <td>0</td>\n      <td>0</td>\n      <td>0</td>\n      <td>1</td>\n      <td>4</td>\n      <td>0</td>\n      <td>4</td>\n      <td>3</td>\n      <td>2</td>\n      <td>4</td>\n      <td>...</td>\n      <td>6</td>\n      <td>7</td>\n      <td>3</td>\n      <td>7</td>\n      <td>3</td>\n      <td>3</td>\n      <td>1</td>\n      <td>0</td>\n      <td>0</td>\n      <td>0</td>\n    </tr>\n    <tr>\n      <th>3</th>\n      <td>0</td>\n      <td>0</td>\n      <td>0</td>\n      <td>1</td>\n      <td>2</td>\n      <td>0</td>\n      <td>4</td>\n      <td>0</td>\n      <td>1</td>\n      <td>1</td>\n      <td>...</td>\n      <td>4</td>\n      <td>0</td>\n      <td>2</td>\n      <td>2</td>\n      <td>1</td>\n      <td>5</td>\n      <td>4</td>\n      <td>4</td>\n      <td>0</td>\n      <td>1</td>\n    </tr>\n    <tr>\n      <th>4</th>\n      <td>0</td>\n      <td>0</td>\n      <td>0</td>\n      <td>0</td>\n      <td>8</td>\n      <td>0</td>\n      <td>5</td>\n      <td>8</td>\n      <td>2</td>\n      <td>5</td>\n      <td>...</td>\n      <td>6</td>\n      <td>22</td>\n      <td>1</td>\n      <td>4</td>\n      <td>1</td>\n      <td>7</td>\n      <td>7</td>\n      <td>1</td>\n      <td>1</td>\n      <td>0</td>\n    </tr>\n  </tbody>\n</table>\n<p>5 rows × 58529 columns</p>\n</div>"
     },
     "execution_count": 190,
     "metadata": {},
     "output_type": "execute_result"
    }
   ],
   "source": [
    "# Add IS to other feature variables\n",
    "samples_IS = samples_IS.drop(samples_IS.columns[:4], axis=1)\n",
    "samples_IS.columns = ['CNI', 'steroids', 'antiproliferative_drugs']\n",
    "samples_genes_IS = pd.concat([samples_IS, samples], axis=1).reindex(samples_IS.index)\n",
    "samples_genes_IS.head()"
   ],
   "metadata": {
    "collapsed": false,
    "pycharm": {
     "name": "#%%\n"
    }
   }
  },
  {
   "cell_type": "markdown",
   "source": [
    "##### Cross validation\n",
    "###### (the result of the classification will be too good, because in this case we do not consider immunosuppressants as confounders)"
   ],
   "metadata": {
    "collapsed": false,
    "pycharm": {
     "name": "#%% md\n"
    }
   }
  },
  {
   "cell_type": "code",
   "execution_count": null,
   "outputs": [],
   "source": [],
   "metadata": {
    "collapsed": false,
    "pycharm": {
     "name": "#%%\n"
    }
   }
  }
 ],
 "metadata": {
  "kernelspec": {
   "display_name": "Python 3",
   "language": "python",
   "name": "python3"
  },
  "language_info": {
   "codemirror_mode": {
    "name": "ipython",
    "version": 3
   },
   "file_extension": ".py",
   "mimetype": "text/x-python",
   "name": "python",
   "nbconvert_exporter": "python",
   "pygments_lexer": "ipython3",
   "version": "3.7.4"
  },
  "name": "basics.ipynb"
 },
 "nbformat": 4,
 "nbformat_minor": 2
}
