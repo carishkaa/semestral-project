{
 "cells": [
  {
   "cell_type": "markdown",
   "source": [
    "# Simple experiments with simulated data"
   ],
   "metadata": {
    "collapsed": false
   }
  },
  {
   "cell_type": "code",
   "execution_count": 1,
   "outputs": [],
   "source": [
    "%load_ext autoreload\n",
    "%autoreload 2\n",
    "import numpy as np\n",
    "from pandas import read_csv, DataFrame, Series\n",
    "import pandas as pd\n",
    "from helper import *\n",
    "from sklearn.metrics import roc_auc_score\n",
    "from sklearn.model_selection import RepeatedStratifiedKFold\n",
    "from scipy.stats import poisson\n",
    "import matplotlib.pyplot as plt\n",
    "import statsmodels.api as sm\n",
    "%matplotlib inline"
   ],
   "metadata": {
    "collapsed": false,
    "pycharm": {
     "name": "#%%\n"
    }
   }
  },
  {
   "cell_type": "markdown",
   "source": [
    "## 1. Class plays no role (beta0 remains the same across classes)"
   ],
   "metadata": {
    "collapsed": false,
    "pycharm": {
     "name": "#%% md\n"
    }
   }
  },
  {
   "cell_type": "code",
   "execution_count": 2,
   "outputs": [],
   "source": [
    "samples = read_csv('rnaseq_class_plays_no_role.csv')\n",
    "# leave only OT_ and CR_ patients\n",
    "drop_list = []\n",
    "\n",
    "for patient in samples.columns:\n",
    "    if patient[:2] != 'OT' and patient[:2] != 'CR':\n",
    "        drop_list.append(patient)\n",
    "# genes = samples.index.values.to_list()\n",
    "samples = samples.drop(drop_list[0:],axis=1)"
   ],
   "metadata": {
    "collapsed": false,
    "pycharm": {
     "name": "#%%\n"
    }
   }
  },
  {
   "cell_type": "code",
   "execution_count": 3,
   "outputs": [
    {
     "name": "stdout",
     "output_type": "stream",
     "text": [
      "Patients amount: \n",
      " status\n",
      "OT        20\n",
      "CR        20\n",
      "dtype: int64\n"
     ]
    }
   ],
   "source": [
    "# recode patient status to numeric (OT = 0, CR = 1)\n",
    "patients = samples.columns[0:]\n",
    "patients_labels = pd.DataFrame({'status':  [p[:2] for p in patients]})\n",
    "print('Patients amount: \\n', patients_labels.value_counts())\n",
    "\n",
    "patients_labels = patients_labels.replace({'OT':0, 'CR':1})\n",
    "labels = ['OT', 'CR']"
   ],
   "metadata": {
    "collapsed": false,
    "pycharm": {
     "name": "#%%\n"
    }
   }
  },
  {
   "cell_type": "code",
   "execution_count": 4,
   "outputs": [
    {
     "data": {
      "text/plain": "   0    1   2   3   4   5   6   7   8   9   ...  90  91  92  93  94  95  96  \\\n0   6  133   7   0   6  22   7  10   0  18  ...  22   6   4  10   4  40   5   \n1  14  156  12   5   8  21   5   6   3  15  ...  20   2   5  16   2  40   4   \n2  14  171   5   2  11  13  10  12   5  15  ...  27   9   3  18   2  79  11   \n3  10  151   9   6  19  19   4   9   1  11  ...  37   6   8  10   3  50   4   \n4  10  178  13   6  16  16   6   8   2   6  ...  23   8   3  13   4  73  13   \n\n   97  98   99  \n0   1   5   49  \n1   2   1   52  \n2   3   8  134  \n3   1   4   54  \n4   2   7  130  \n\n[5 rows x 100 columns]",
      "text/html": "<div>\n<style scoped>\n    .dataframe tbody tr th:only-of-type {\n        vertical-align: middle;\n    }\n\n    .dataframe tbody tr th {\n        vertical-align: top;\n    }\n\n    .dataframe thead th {\n        text-align: right;\n    }\n</style>\n<table border=\"1\" class=\"dataframe\">\n  <thead>\n    <tr style=\"text-align: right;\">\n      <th></th>\n      <th>0</th>\n      <th>1</th>\n      <th>2</th>\n      <th>3</th>\n      <th>4</th>\n      <th>5</th>\n      <th>6</th>\n      <th>7</th>\n      <th>8</th>\n      <th>9</th>\n      <th>...</th>\n      <th>90</th>\n      <th>91</th>\n      <th>92</th>\n      <th>93</th>\n      <th>94</th>\n      <th>95</th>\n      <th>96</th>\n      <th>97</th>\n      <th>98</th>\n      <th>99</th>\n    </tr>\n  </thead>\n  <tbody>\n    <tr>\n      <th>0</th>\n      <td>6</td>\n      <td>133</td>\n      <td>7</td>\n      <td>0</td>\n      <td>6</td>\n      <td>22</td>\n      <td>7</td>\n      <td>10</td>\n      <td>0</td>\n      <td>18</td>\n      <td>...</td>\n      <td>22</td>\n      <td>6</td>\n      <td>4</td>\n      <td>10</td>\n      <td>4</td>\n      <td>40</td>\n      <td>5</td>\n      <td>1</td>\n      <td>5</td>\n      <td>49</td>\n    </tr>\n    <tr>\n      <th>1</th>\n      <td>14</td>\n      <td>156</td>\n      <td>12</td>\n      <td>5</td>\n      <td>8</td>\n      <td>21</td>\n      <td>5</td>\n      <td>6</td>\n      <td>3</td>\n      <td>15</td>\n      <td>...</td>\n      <td>20</td>\n      <td>2</td>\n      <td>5</td>\n      <td>16</td>\n      <td>2</td>\n      <td>40</td>\n      <td>4</td>\n      <td>2</td>\n      <td>1</td>\n      <td>52</td>\n    </tr>\n    <tr>\n      <th>2</th>\n      <td>14</td>\n      <td>171</td>\n      <td>5</td>\n      <td>2</td>\n      <td>11</td>\n      <td>13</td>\n      <td>10</td>\n      <td>12</td>\n      <td>5</td>\n      <td>15</td>\n      <td>...</td>\n      <td>27</td>\n      <td>9</td>\n      <td>3</td>\n      <td>18</td>\n      <td>2</td>\n      <td>79</td>\n      <td>11</td>\n      <td>3</td>\n      <td>8</td>\n      <td>134</td>\n    </tr>\n    <tr>\n      <th>3</th>\n      <td>10</td>\n      <td>151</td>\n      <td>9</td>\n      <td>6</td>\n      <td>19</td>\n      <td>19</td>\n      <td>4</td>\n      <td>9</td>\n      <td>1</td>\n      <td>11</td>\n      <td>...</td>\n      <td>37</td>\n      <td>6</td>\n      <td>8</td>\n      <td>10</td>\n      <td>3</td>\n      <td>50</td>\n      <td>4</td>\n      <td>1</td>\n      <td>4</td>\n      <td>54</td>\n    </tr>\n    <tr>\n      <th>4</th>\n      <td>10</td>\n      <td>178</td>\n      <td>13</td>\n      <td>6</td>\n      <td>16</td>\n      <td>16</td>\n      <td>6</td>\n      <td>8</td>\n      <td>2</td>\n      <td>6</td>\n      <td>...</td>\n      <td>23</td>\n      <td>8</td>\n      <td>3</td>\n      <td>13</td>\n      <td>4</td>\n      <td>73</td>\n      <td>13</td>\n      <td>2</td>\n      <td>7</td>\n      <td>130</td>\n    </tr>\n  </tbody>\n</table>\n<p>5 rows × 100 columns</p>\n</div>"
     },
     "execution_count": 4,
     "metadata": {},
     "output_type": "execute_result"
    }
   ],
   "source": [
    "rnaseq = samples.copy()\n",
    "# transpose\n",
    "samples = samples.transpose()\n",
    "samples = samples.reset_index(drop=True)\n",
    "samples.head()"
   ],
   "metadata": {
    "collapsed": false,
    "pycharm": {
     "name": "#%%\n"
    }
   }
  },
  {
   "cell_type": "code",
   "execution_count": 5,
   "outputs": [],
   "source": [
    "# normalize data for logistic regression\n",
    "# X = StandardScaler().fit_transform(samples)\n",
    "X = samples\n",
    "y = patients_labels\n",
    "X = pd.DataFrame(data=X, columns=samples.columns)"
   ],
   "metadata": {
    "collapsed": false,
    "pycharm": {
     "name": "#%%\n"
    }
   }
  },
  {
   "cell_type": "code",
   "execution_count": 6,
   "outputs": [],
   "source": [
    "n_splits = 5\n",
    "genes_range = [3, 5, 10, 20] # number of selected genes\n",
    "results = dict((k, np.array([]).reshape((0,3))) for k in genes_range)\n",
    "signatures = dict((k, dict()) for k in genes_range)\n",
    "selected_features = dict((k, dict()) for k in genes_range)\n",
    "\n",
    "# cross validation\n",
    "cv = RepeatedStratifiedKFold(n_splits=n_splits, n_repeats=30).split(X, y)\n",
    "for i, (train_idx, test_idx) in enumerate(cv):\n",
    "    X_train, y_train = [X.iloc[train_idx, :], y.iloc[train_idx]]\n",
    "    X_test, y_test = [X.iloc[test_idx, :], y.iloc[test_idx]]\n",
    "\n",
    "    for selected_k in genes_range:\n",
    "        # print('\\nNumber of genes: ', selected_k)\n",
    "\n",
    "        # feature selection\n",
    "        selected_genes = dict()\n",
    "        selected_genes['Random'] = feature_selection_random(X_train, selected_k)\n",
    "        selected_genes['Extra trees'] = feature_selection_extra_trees(X_train, y_train.values.ravel(), selected_k)\n",
    "        selected_genes['Lasso'] = feature_selection_l1(X_train, y_train.values.ravel(), selected_k)\n",
    "\n",
    "        auc_scores = []\n",
    "        for name, genes in selected_genes.items():\n",
    "            X_train_selected = X_train[genes]\n",
    "            X_test_selected = X_test[genes]\n",
    "\n",
    "            # model prediction\n",
    "            model = LogisticRegression(solver='liblinear', penalty='l1').fit(X_train_selected, y_train.values.ravel())\n",
    "            probabilities = model.predict_proba(X_test_selected)[:, 1]\n",
    "\n",
    "            # calculate auroc score\n",
    "            auc = roc_auc_score(y_test, probabilities)\n",
    "            auc_scores.append(auc)\n",
    "\n",
    "            if name != 'Random':\n",
    "                sgntr = tuple(genes)\n",
    "                signatures[selected_k][sgntr] = selected_features[selected_k][sgntr] + 1 if sgntr in selected_features[selected_k] else 1\n",
    "                for g in genes:\n",
    "                    selected_features[selected_k][g] = selected_features[selected_k][g] + 1 if g in selected_features[selected_k] else 1\n",
    "\n",
    "        # print(np.array(auc_scores))\n",
    "        results[selected_k] = np.vstack((results[selected_k], np.array(auc_scores)))\n",
    "\n",
    "    if i % 5 == 0:\n",
    "        for k_ind, genes in results.items():\n",
    "            mean_auc = np.mean(results[k_ind][-n_splits:, :], axis=0)\n",
    "            results[k_ind] = np.vstack((results[k_ind][:-n_splits, :], mean_auc))"
   ],
   "metadata": {
    "collapsed": false,
    "pycharm": {
     "name": "#%%\n"
    }
   }
  },
  {
   "cell_type": "markdown",
   "source": [
    "##### Show how IS misleads the CR/OT classifier (the classification accuracy should be 50% but will be higher due to IS)"
   ],
   "metadata": {
    "collapsed": false,
    "pycharm": {
     "name": "#%% md\n"
    }
   }
  },
  {
   "cell_type": "code",
   "execution_count": 7,
   "outputs": [
    {
     "data": {
      "text/plain": "<Figure size 432x288 with 1 Axes>",
      "image/png": "[encoded data removed]"
     },
     "metadata": {
      "needs_background": "light"
     },
     "output_type": "display_data"
    }
   ],
   "source": [
    "# show boxplots\n",
    "methods_names = ['random', 'extra trees', 'lasso (L1)']\n",
    "data_groups1 = group_data(results)\n",
    "show_cv(data_groups1, genes_range, methods_names)"
   ],
   "metadata": {
    "collapsed": false,
    "pycharm": {
     "name": "#%%\n"
    }
   }
  },
  {
   "cell_type": "markdown",
   "source": [
    "##### Compensate for IS (learn from STA, apply to CR), find params when the compensation works"
   ],
   "metadata": {
    "collapsed": false,
    "pycharm": {
     "name": "#%% md\n"
    }
   }
  },
  {
   "cell_type": "code",
   "execution_count": 8,
   "outputs": [],
   "source": [
    "t = 100\n",
    "samples = pd.read_csv('rnaseq_class_plays_no_role.csv', index_col=0)\n",
    "IS = pd.read_csv('IS_class_plays_no_role.csv', index_col=0)"
   ],
   "metadata": {
    "collapsed": false,
    "pycharm": {
     "name": "#%%\n"
    }
   }
  },
  {
   "cell_type": "code",
   "execution_count": 9,
   "outputs": [],
   "source": [
    "drop_list = []\n",
    "for patient in samples.columns:\n",
    "    if patient[:3] != 'STA':\n",
    "        drop_list.append(patient)\n",
    "STA_counts = samples.drop(drop_list, axis=1).to_numpy()\n",
    "STA_IS = IS.drop(drop_list, axis=0)"
   ],
   "metadata": {
    "collapsed": false,
    "pycharm": {
     "name": "#%%\n"
    }
   }
  },
  {
   "cell_type": "code",
   "execution_count": 10,
   "outputs": [],
   "source": [
    "# try to learn the beta1 parameters from STA class\n",
    "learned_beta1 = np.zeros(t)\n",
    "for ind in range(t):\n",
    "    df = pd.DataFrame({\"x\": STA_IS['IS1'].values.tolist(),\n",
    "                       \"y\": STA_counts[ind]})\n",
    "    mp = sm.formula.glm(\"y ~ x\", family=sm.families.Poisson(), data=df).fit()\n",
    "    learned_beta1[ind] = mp.params.x"
   ],
   "metadata": {
    "collapsed": false,
    "pycharm": {
     "name": "#%%\n"
    }
   }
  },
  {
   "cell_type": "code",
   "execution_count": 11,
   "outputs": [],
   "source": [
    "# leave only CR OT classes for classification\n",
    "drop_list = []\n",
    "for patient in samples.columns:\n",
    "    if patient[:2] != 'OT' and patient[:2] != 'CR':\n",
    "        drop_list.append(patient)\n",
    "OT_CR_counts = samples.drop(drop_list, axis=1).to_numpy(dtype=float)\n",
    "OT_CR_IS = IS.drop(drop_list)['IS1'].values"
   ],
   "metadata": {
    "collapsed": false,
    "pycharm": {
     "name": "#%%\n"
    }
   }
  },
  {
   "cell_type": "code",
   "execution_count": 12,
   "outputs": [],
   "source": [
    "# filter the IS1 out from the CR count data\n",
    "for ind in range(t):\n",
    "    OT_CR_counts[ind, :20] = OT_CR_counts[ind, :20]/np.exp(OT_CR_IS[:20] * learned_beta1[ind])"
   ],
   "metadata": {
    "collapsed": false,
    "pycharm": {
     "name": "#%%\n"
    }
   }
  },
  {
   "cell_type": "code",
   "execution_count": 13,
   "outputs": [],
   "source": [
    "# normalize data for logistic regression\n",
    "OT_CR_counts = OT_CR_counts.transpose()\n",
    "X = StandardScaler().fit_transform(OT_CR_counts)\n",
    "y = patients_labels\n",
    "X = pd.DataFrame(data=X, columns=samples.index)"
   ],
   "metadata": {
    "collapsed": false,
    "pycharm": {
     "name": "#%%\n"
    }
   }
  },
  {
   "cell_type": "code",
   "execution_count": 14,
   "outputs": [],
   "source": [
    "n_splits = 5\n",
    "genes_range = [3, 5, 10, 20] # number of selected genes\n",
    "results = dict((k, np.array([]).reshape((0,3))) for k in genes_range)\n",
    "signatures = dict((k, dict()) for k in genes_range)\n",
    "selected_features = dict((k, dict()) for k in genes_range)\n",
    "\n",
    "# cross validation\n",
    "cv = RepeatedStratifiedKFold(n_splits=n_splits, n_repeats=30).split(X, y)\n",
    "for i, (train_idx, test_idx) in enumerate(cv):\n",
    "    X_train, y_train = [X.iloc[train_idx, :], y.iloc[train_idx]]\n",
    "    X_test, y_test = [X.iloc[test_idx, :], y.iloc[test_idx]]\n",
    "\n",
    "    for selected_k in genes_range:\n",
    "        # print('\\nNumber of genes: ', selected_k)\n",
    "\n",
    "        # feature selection\n",
    "        selected_genes = dict()\n",
    "        selected_genes['Random'] = feature_selection_random(X_train, selected_k)\n",
    "        selected_genes['Extra trees'] = feature_selection_extra_trees(X_train, y_train.values.ravel(), selected_k)\n",
    "        selected_genes['Lasso'] = feature_selection_l1(X_train, y_train.values.ravel(), selected_k)\n",
    "\n",
    "        auc_scores = []\n",
    "        for name, genes in selected_genes.items():\n",
    "            X_train_selected = X_train[genes]\n",
    "            X_test_selected = X_test[genes]\n",
    "\n",
    "            # model prediction\n",
    "            model = LogisticRegression(solver='liblinear', penalty='l1').fit(X_train_selected, y_train.values.ravel())\n",
    "            probabilities = model.predict_proba(X_test_selected)[:, 1]\n",
    "\n",
    "            # calculate auroc score\n",
    "            auc = roc_auc_score(y_test, probabilities)\n",
    "            auc_scores.append(auc)\n",
    "\n",
    "            # if name != 'Random':\n",
    "            #     sgntr = tuple(genes)\n",
    "            #     signatures[selected_k][sgntr] = selected_features[selected_k][sgntr] + 1 if sgntr in selected_features[selected_k] else 1\n",
    "            #     for g in genes:\n",
    "            #         selected_features[selected_k][g] = selected_features[selected_k][g] + 1 if g in selected_features[selected_k] else 1\n",
    "        # print(results[selected_k].reshape((0,3)))\n",
    "        # print(np.array(auc_scores))\n",
    "        results[selected_k] = np.vstack((results[selected_k], np.array(auc_scores)))\n",
    "\n",
    "    if i % 5 == 0:\n",
    "        for k_ind, genes in results.items():\n",
    "            mean_auc = np.mean(results[k_ind][-n_splits:, :], axis=0)\n",
    "            results[k_ind] = np.vstack((results[k_ind][:-n_splits, :], mean_auc))\n"
   ],
   "metadata": {
    "collapsed": false,
    "pycharm": {
     "name": "#%%\n"
    }
   }
  },
  {
   "cell_type": "code",
   "execution_count": 15,
   "outputs": [
    {
     "data": {
      "text/plain": "<Figure size 432x288 with 1 Axes>",
      "image/png": "[encoded data removed]"
     },
     "metadata": {
      "needs_background": "light"
     },
     "output_type": "display_data"
    }
   ],
   "source": [
    "# modify data for boxplots\n",
    "methods_names = ['random', 'extra trees', 'lasso (L1)']\n",
    "data_groups2 = group_data(results)\n",
    "\n",
    "# show boxplots\n",
    "show_cv(data_groups2, genes_range, methods_names)"
   ],
   "metadata": {
    "collapsed": false,
    "pycharm": {
     "name": "#%%\n"
    }
   }
  },
  {
   "cell_type": "code",
   "execution_count": 16,
   "outputs": [
    {
     "data": {
      "text/plain": "<Figure size 1080x360 with 2 Axes>",
      "image/png": "[encoded data removed]"
     },
     "metadata": {
      "needs_background": "light"
     },
     "output_type": "display_data"
    }
   ],
   "source": [
    "fig = plt.figure(figsize=(15, 5))\n",
    "\n",
    "plt.subplot(1, 2, 1)\n",
    "show_cv(data_groups1, genes_range, methods_names)\n",
    "plt.title(\"Without IS compensation\")\n",
    "\n",
    "plt.subplot(1, 2, 2)\n",
    "show_cv(data_groups2, genes_range, methods_names)\n",
    "plt.title(\"With IS compensation\")\n",
    "\n",
    "plt.savefig(\"Classification_class_plays_no_role.png\")\n",
    "plt.show()\n",
    "\n"
   ],
   "metadata": {
    "collapsed": false,
    "pycharm": {
     "name": "#%%\n"
    }
   }
  },
  {
   "cell_type": "markdown",
   "source": [
    "## 2. Class plays role"
   ],
   "metadata": {
    "collapsed": false
   }
  },
  {
   "cell_type": "code",
   "execution_count": 17,
   "outputs": [],
   "source": [
    "samples = read_csv('rnaseq_class_plays_role.csv')\n",
    "# leave only OT_ and CR_ patients\n",
    "drop_list = []\n",
    "\n",
    "for patient in samples.columns:\n",
    "    if patient[:2] != 'OT' and patient[:2] != 'CR':\n",
    "        drop_list.append(patient)\n",
    "# genes = samples.index.values.to_list()\n",
    "samples = samples.drop(drop_list[0:],axis=1)"
   ],
   "metadata": {
    "collapsed": false,
    "pycharm": {
     "name": "#%%\n"
    }
   }
  },
  {
   "cell_type": "code",
   "execution_count": 18,
   "outputs": [
    {
     "name": "stdout",
     "output_type": "stream",
     "text": [
      "Patients amount: \n",
      " status\n",
      "OT        20\n",
      "CR        20\n",
      "dtype: int64\n"
     ]
    }
   ],
   "source": [
    "# recode patient status to numeric (OT = 0, CR = 1)\n",
    "patients = samples.columns[0:]\n",
    "patients_labels = pd.DataFrame({'status':  [p[:2] for p in patients]})\n",
    "print('Patients amount: \\n', patients_labels.value_counts())\n",
    "\n",
    "patients_labels = patients_labels.replace({'OT':0, 'CR':1})\n",
    "labels = ['OT', 'CR']"
   ],
   "metadata": {
    "collapsed": false,
    "pycharm": {
     "name": "#%%\n"
    }
   }
  },
  {
   "cell_type": "code",
   "execution_count": 19,
   "outputs": [
    {
     "data": {
      "text/plain": "   0   1   2    3   4   5   6   7   8   9   ...  90  91  92  93  94  95  96  \\\n0  22   9   9  100   5   3  13  25   3  10  ...   8  21   4  15   1  30  47   \n1  18   9   8  113  10   9  17  34   6  14  ...   4  17   9  11   0  16  23   \n2  24   8  11  113   7   2   5  38   2   9  ...   7  17   7   5   0  16  26   \n3  20  13   9  106   5   1   8  30   4   7  ...   7  10   9   8   0  10  21   \n4  22  11   9  106   5   5  13  35   6  11  ...   4  15  14   7   0  16  34   \n\n   97  98  99  \n0  12   3  47  \n1   7   4  25  \n2   9   1  28  \n3   3   3  21  \n4   3   5  22  \n\n[5 rows x 100 columns]",
      "text/html": "<div>\n<style scoped>\n    .dataframe tbody tr th:only-of-type {\n        vertical-align: middle;\n    }\n\n    .dataframe tbody tr th {\n        vertical-align: top;\n    }\n\n    .dataframe thead th {\n        text-align: right;\n    }\n</style>\n<table border=\"1\" class=\"dataframe\">\n  <thead>\n    <tr style=\"text-align: right;\">\n      <th></th>\n      <th>0</th>\n      <th>1</th>\n      <th>2</th>\n      <th>3</th>\n      <th>4</th>\n      <th>5</th>\n      <th>6</th>\n      <th>7</th>\n      <th>8</th>\n      <th>9</th>\n      <th>...</th>\n      <th>90</th>\n      <th>91</th>\n      <th>92</th>\n      <th>93</th>\n      <th>94</th>\n      <th>95</th>\n      <th>96</th>\n      <th>97</th>\n      <th>98</th>\n      <th>99</th>\n    </tr>\n  </thead>\n  <tbody>\n    <tr>\n      <th>0</th>\n      <td>22</td>\n      <td>9</td>\n      <td>9</td>\n      <td>100</td>\n      <td>5</td>\n      <td>3</td>\n      <td>13</td>\n      <td>25</td>\n      <td>3</td>\n      <td>10</td>\n      <td>...</td>\n      <td>8</td>\n      <td>21</td>\n      <td>4</td>\n      <td>15</td>\n      <td>1</td>\n      <td>30</td>\n      <td>47</td>\n      <td>12</td>\n      <td>3</td>\n      <td>47</td>\n    </tr>\n    <tr>\n      <th>1</th>\n      <td>18</td>\n      <td>9</td>\n      <td>8</td>\n      <td>113</td>\n      <td>10</td>\n      <td>9</td>\n      <td>17</td>\n      <td>34</td>\n      <td>6</td>\n      <td>14</td>\n      <td>...</td>\n      <td>4</td>\n      <td>17</td>\n      <td>9</td>\n      <td>11</td>\n      <td>0</td>\n      <td>16</td>\n      <td>23</td>\n      <td>7</td>\n      <td>4</td>\n      <td>25</td>\n    </tr>\n    <tr>\n      <th>2</th>\n      <td>24</td>\n      <td>8</td>\n      <td>11</td>\n      <td>113</td>\n      <td>7</td>\n      <td>2</td>\n      <td>5</td>\n      <td>38</td>\n      <td>2</td>\n      <td>9</td>\n      <td>...</td>\n      <td>7</td>\n      <td>17</td>\n      <td>7</td>\n      <td>5</td>\n      <td>0</td>\n      <td>16</td>\n      <td>26</td>\n      <td>9</td>\n      <td>1</td>\n      <td>28</td>\n    </tr>\n    <tr>\n      <th>3</th>\n      <td>20</td>\n      <td>13</td>\n      <td>9</td>\n      <td>106</td>\n      <td>5</td>\n      <td>1</td>\n      <td>8</td>\n      <td>30</td>\n      <td>4</td>\n      <td>7</td>\n      <td>...</td>\n      <td>7</td>\n      <td>10</td>\n      <td>9</td>\n      <td>8</td>\n      <td>0</td>\n      <td>10</td>\n      <td>21</td>\n      <td>3</td>\n      <td>3</td>\n      <td>21</td>\n    </tr>\n    <tr>\n      <th>4</th>\n      <td>22</td>\n      <td>11</td>\n      <td>9</td>\n      <td>106</td>\n      <td>5</td>\n      <td>5</td>\n      <td>13</td>\n      <td>35</td>\n      <td>6</td>\n      <td>11</td>\n      <td>...</td>\n      <td>4</td>\n      <td>15</td>\n      <td>14</td>\n      <td>7</td>\n      <td>0</td>\n      <td>16</td>\n      <td>34</td>\n      <td>3</td>\n      <td>5</td>\n      <td>22</td>\n    </tr>\n  </tbody>\n</table>\n<p>5 rows × 100 columns</p>\n</div>"
     },
     "execution_count": 19,
     "metadata": {},
     "output_type": "execute_result"
    }
   ],
   "source": [
    "rnaseq = samples.copy()\n",
    "# transpose\n",
    "samples = samples.transpose()\n",
    "samples = samples.reset_index(drop=True)\n",
    "samples.head()"
   ],
   "metadata": {
    "collapsed": false,
    "pycharm": {
     "name": "#%%\n"
    }
   }
  },
  {
   "cell_type": "code",
   "execution_count": 20,
   "outputs": [],
   "source": [
    "# normalize data for logistic regression\n",
    "X = StandardScaler().fit_transform(samples)\n",
    "y = patients_labels\n",
    "X = pd.DataFrame(data=X, columns=samples.columns)"
   ],
   "metadata": {
    "collapsed": false,
    "pycharm": {
     "name": "#%%\n"
    }
   }
  },
  {
   "cell_type": "code",
   "execution_count": 21,
   "outputs": [],
   "source": [
    "n_splits = 5\n",
    "genes_range = [3, 5, 10, 20] # number of selected genes\n",
    "results = dict((k, np.array([]).reshape((0,3))) for k in genes_range)\n",
    "signatures = dict((k, dict()) for k in genes_range)\n",
    "selected_features = dict((k, dict()) for k in genes_range)\n",
    "\n",
    "# cross validation\n",
    "cv = RepeatedStratifiedKFold(n_splits=n_splits, n_repeats=30).split(X, y)\n",
    "for i, (train_idx, test_idx) in enumerate(cv):\n",
    "    X_train, y_train = [X.iloc[train_idx, :], y.iloc[train_idx]]\n",
    "    X_test, y_test = [X.iloc[test_idx, :], y.iloc[test_idx]]\n",
    "\n",
    "    for selected_k in genes_range:\n",
    "        # print('\\nNumber of genes: ', selected_k)\n",
    "\n",
    "        # feature selection\n",
    "        selected_genes = dict()\n",
    "        selected_genes['Random'] = feature_selection_random(X_train, selected_k)\n",
    "        selected_genes['Extra trees'] = feature_selection_extra_trees(X_train, y_train.values.ravel(), selected_k)\n",
    "        selected_genes['Lasso'] = feature_selection_l1(X_train, y_train.values.ravel(), selected_k)\n",
    "\n",
    "        auc_scores = []\n",
    "        for name, genes in selected_genes.items():\n",
    "            X_train_selected = X_train[genes]\n",
    "            X_test_selected = X_test[genes]\n",
    "\n",
    "            # model prediction\n",
    "            model = LogisticRegression(solver='liblinear', penalty='l1').fit(X_train_selected, y_train.values.ravel())\n",
    "            probabilities = model.predict_proba(X_test_selected)[:, 1]\n",
    "\n",
    "            # calculate auroc score\n",
    "            auc = roc_auc_score(y_test, probabilities)\n",
    "            auc_scores.append(auc)\n",
    "\n",
    "            if name != 'Random':\n",
    "                sgntr = tuple(genes)\n",
    "                signatures[selected_k][sgntr] = selected_features[selected_k][sgntr] + 1 if sgntr in selected_features[selected_k] else 1\n",
    "                for g in genes:\n",
    "                    selected_features[selected_k][g] = selected_features[selected_k][g] + 1 if g in selected_features[selected_k] else 1\n",
    "\n",
    "        # print(np.array(auc_scores))\n",
    "        results[selected_k] = np.vstack((results[selected_k], np.array(auc_scores)))\n",
    "\n",
    "    if i % 5 == 0:\n",
    "        for k_ind, genes in results.items():\n",
    "            mean_auc = np.mean(results[k_ind][-n_splits:, :], axis=0)\n",
    "            results[k_ind] = np.vstack((results[k_ind][:-n_splits, :], mean_auc))"
   ],
   "metadata": {
    "collapsed": false,
    "pycharm": {
     "name": "#%%\n"
    }
   }
  },
  {
   "cell_type": "markdown",
   "source": [
    "##### Show how IS (falsely) increases the classification accuracy"
   ],
   "metadata": {
    "collapsed": false
   }
  },
  {
   "cell_type": "code",
   "execution_count": 22,
   "outputs": [
    {
     "data": {
      "text/plain": "<Figure size 432x288 with 1 Axes>",
      "image/png": "[encoded data removed]"
     },
     "metadata": {
      "needs_background": "light"
     },
     "output_type": "display_data"
    }
   ],
   "source": [
    "# show boxplots\n",
    "methods_names = ['random', 'extra trees', 'lasso (L1)']\n",
    "data_groups3 = group_data(results)\n",
    "show_cv(data_groups3, genes_range, methods_names)"
   ],
   "metadata": {
    "collapsed": false,
    "pycharm": {
     "name": "#%%\n"
    }
   }
  },
  {
   "cell_type": "markdown",
   "source": [
    "##### Compensate for IS (learn from STA, apply to CR), find params when the compensation works"
   ],
   "metadata": {
    "collapsed": false
   }
  },
  {
   "cell_type": "code",
   "execution_count": 23,
   "outputs": [],
   "source": [
    "t = 100\n",
    "samples = pd.read_csv('rnaseq_class_plays_role.csv', index_col=0)\n",
    "IS = pd.read_csv('IS_class_plays_role.csv', index_col=0)"
   ],
   "metadata": {
    "collapsed": false,
    "pycharm": {
     "name": "#%%\n"
    }
   }
  },
  {
   "cell_type": "code",
   "execution_count": 24,
   "outputs": [],
   "source": [
    "# leave only STA\n",
    "drop_list = []\n",
    "for patient in samples.columns:\n",
    "    if patient[:3] != 'STA':\n",
    "        drop_list.append(patient)\n",
    "STA_counts = samples.drop(drop_list, axis=1).to_numpy()\n",
    "STA_IS = IS.drop(drop_list, axis=0)"
   ],
   "metadata": {
    "collapsed": false,
    "pycharm": {
     "name": "#%%\n"
    }
   }
  },
  {
   "cell_type": "code",
   "execution_count": 25,
   "outputs": [],
   "source": [
    "# try to learn the beta1 parameters from STA class\n",
    "learned_beta1 = np.zeros(t)\n",
    "for ind in range(t):\n",
    "    df = pd.DataFrame({\"x\": STA_IS['IS1'].values.tolist(),\n",
    "                       \"y\": STA_counts[ind]})\n",
    "    mp = sm.formula.glm(\"y ~ x\", family=sm.families.Poisson(), data=df).fit()\n",
    "    learned_beta1[ind] = mp.params.x"
   ],
   "metadata": {
    "collapsed": false,
    "pycharm": {
     "name": "#%%\n"
    }
   }
  },
  {
   "cell_type": "code",
   "execution_count": 26,
   "outputs": [],
   "source": [
    "# leave only CR and OT classes for classification\n",
    "drop_list = []\n",
    "for patient in samples.columns:\n",
    "    if patient[:2] != 'OT' and patient[:2] != 'CR':\n",
    "        drop_list.append(patient)\n",
    "OT_CR_counts = samples.drop(drop_list, axis=1).to_numpy(dtype=float)\n",
    "OT_CR_IS = IS.drop(drop_list)['IS1'].values"
   ],
   "metadata": {
    "collapsed": false,
    "pycharm": {
     "name": "#%%\n"
    }
   }
  },
  {
   "cell_type": "code",
   "execution_count": 27,
   "outputs": [],
   "source": [
    "# filter the IS1 out from the CR count data\n",
    "for ind in range(t):\n",
    "    # print(np.exp(OT_CR_IS[:20] * learned_beta1[ind]))\n",
    "    OT_CR_counts[ind, :20] = OT_CR_counts[ind, :20]/np.exp(OT_CR_IS[:20] * learned_beta1[ind]) # first 20 is CR"
   ],
   "metadata": {
    "collapsed": false,
    "pycharm": {
     "name": "#%%\n"
    }
   }
  },
  {
   "cell_type": "code",
   "execution_count": 28,
   "outputs": [],
   "source": [
    "# normalize data for logistic regression\n",
    "OT_CR_counts = OT_CR_counts.transpose()\n",
    "X = StandardScaler().fit_transform(OT_CR_counts)\n",
    "# X = OT_CR_counts\n",
    "y = patients_labels\n",
    "X = pd.DataFrame(data=X, columns=samples.index)"
   ],
   "metadata": {
    "collapsed": false,
    "pycharm": {
     "name": "#%%\n"
    }
   }
  },
  {
   "cell_type": "code",
   "execution_count": 29,
   "outputs": [],
   "source": [
    "n_splits = 5\n",
    "genes_range = [3, 5, 10, 20] # number of selected genes\n",
    "results = dict((k, np.array([]).reshape((0,3))) for k in genes_range)\n",
    "signatures = dict((k, dict()) for k in genes_range)\n",
    "selected_features = dict((k, dict()) for k in genes_range)\n",
    "\n",
    "# cross validation\n",
    "cv = RepeatedStratifiedKFold(n_splits=n_splits, n_repeats=30).split(X, y)\n",
    "for i, (train_idx, test_idx) in enumerate(cv):\n",
    "    X_train, y_train = [X.iloc[train_idx, :], y.iloc[train_idx]]\n",
    "    X_test, y_test = [X.iloc[test_idx, :], y.iloc[test_idx]]\n",
    "\n",
    "    for selected_k in genes_range:\n",
    "        # print('\\nNumber of genes: ', selected_k)\n",
    "\n",
    "        # feature selection\n",
    "        selected_genes = dict()\n",
    "        selected_genes['Random'] = feature_selection_random(X_train, selected_k)\n",
    "        selected_genes['Extra trees'] = feature_selection_extra_trees(X_train, y_train.values.ravel(), selected_k)\n",
    "        selected_genes['Lasso'] = feature_selection_l1(X_train, y_train.values.ravel(), selected_k)\n",
    "\n",
    "        auc_scores = []\n",
    "        for name, genes in selected_genes.items():\n",
    "            X_train_selected = X_train[genes]\n",
    "            X_test_selected = X_test[genes]\n",
    "\n",
    "            # model prediction\n",
    "            model = LogisticRegression(solver='liblinear', penalty='l1').fit(X_train_selected, y_train.values.ravel())\n",
    "            probabilities = model.predict_proba(X_test_selected)[:, 1]\n",
    "\n",
    "            # calculate auroc score\n",
    "            auc = roc_auc_score(y_test, probabilities)\n",
    "            auc_scores.append(auc)\n",
    "\n",
    "        results[selected_k] = np.vstack((results[selected_k], np.array(auc_scores)))\n",
    "\n",
    "    if i % 5 == 0:\n",
    "        for k_ind, genes in results.items():\n",
    "            mean_auc = np.mean(results[k_ind][-n_splits:, :], axis=0)\n",
    "            results[k_ind] = np.vstack((results[k_ind][:-n_splits, :], mean_auc))"
   ],
   "metadata": {
    "collapsed": false,
    "pycharm": {
     "name": "#%%\n"
    }
   }
  },
  {
   "cell_type": "code",
   "execution_count": 30,
   "outputs": [
    {
     "data": {
      "text/plain": "<Figure size 432x288 with 1 Axes>",
      "image/png": "[encoded data removed]"
     },
     "metadata": {
      "needs_background": "light"
     },
     "output_type": "display_data"
    }
   ],
   "source": [
    "# modify data for boxplots\n",
    "methods_names = ['random', 'extra trees', 'lasso (L1)']\n",
    "data_groups4 = group_data(results)\n",
    "\n",
    "# show boxplots\n",
    "show_cv(data_groups4, genes_range, methods_names)"
   ],
   "metadata": {
    "collapsed": false,
    "pycharm": {
     "name": "#%%\n"
    }
   }
  },
  {
   "cell_type": "code",
   "execution_count": 31,
   "outputs": [
    {
     "data": {
      "text/plain": "<Figure size 1080x360 with 2 Axes>",
      "image/png": "[encoded data removed]"
     },
     "metadata": {
      "needs_background": "light"
     },
     "output_type": "display_data"
    }
   ],
   "source": [
    "fig = plt.figure(figsize=(15, 5))\n",
    "\n",
    "plt.subplot(1, 2, 1)\n",
    "show_cv(data_groups3, genes_range, methods_names)\n",
    "plt.title(\"Without IS compensation\")\n",
    "\n",
    "plt.subplot(1, 2, 2)\n",
    "show_cv(data_groups4, genes_range, methods_names)\n",
    "plt.title(\"With IS compensation\")\n",
    "\n",
    "plt.savefig(\"Classification_class_plays_role.png\")\n",
    "plt.show()"
   ],
   "metadata": {
    "collapsed": false,
    "pycharm": {
     "name": "#%%\n"
    }
   }
  }
 ],
 "metadata": {
  "kernelspec": {
   "display_name": "Python 3",
   "language": "python",
   "name": "python3"
  },
  "language_info": {
   "codemirror_mode": {
    "name": "ipython",
    "version": 3
   },
   "file_extension": ".py",
   "mimetype": "text/x-python",
   "name": "python",
   "nbconvert_exporter": "python",
   "pygments_lexer": "ipython3",
   "version": "3.7.4"
  },
  "name": "basics.ipynb"
 },
 "nbformat": 4,
 "nbformat_minor": 2
}